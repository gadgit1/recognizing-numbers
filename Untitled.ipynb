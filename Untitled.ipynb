{
 "cells": [
  {
   "cell_type": "code",
   "execution_count": 1,
   "id": "b35c5f1e-592a-4bce-a19b-c7993abccc3a",
   "metadata": {},
   "outputs": [],
   "source": [
    "import numpy as np\n",
    "from PIL import Image\n",
    "\n",
    "def generate_bw_image(size=(25, 25), save_path=\"generated.png\"):\n",
    "    # Генерация случайных значений от 0 до 255 (от черного до белого)\n",
    "    array = np.random.randint(0, 256, size, dtype=np.uint8)\n",
    "\n",
    "    # Преобразуем массив в изображение\n",
    "    img = Image.fromarray(array, mode='L')  # 'L' означает grayscale\n",
    "    img.save(save_path)\n",
    "    img.show()\n",
    "\n",
    "# Пример генерации\n",
    "generate_bw_image()\n"
   ]
  },
  {
   "cell_type": "code",
   "execution_count": 3,
   "id": "08453664-e2e6-4fd6-8fe5-ec5cef9900dd",
   "metadata": {},
   "outputs": [],
   "source": [
    "from PIL import Image, ImageDraw, ImageFont\n",
    "\n",
    "def draw_digit(digit=5, size=(25, 25), save_path=\"digit.png\"):\n",
    "    img = Image.new('L', size, color=0)  # Черный фон, градации серого\n",
    "    draw = ImageDraw.Draw(img)\n",
    "\n",
    "    try:\n",
    "        font = ImageFont.truetype(\"arial.ttf\", size=20)\n",
    "    except:\n",
    "        font = ImageFont.load_default()  # На случай, если Arial нет\n",
    "\n",
    "    # Используем textbbox вместо textsize (новый метод)\n",
    "    text = str(digit)\n",
    "    bbox = draw.textbbox((0, 0), text, font=font)\n",
    "    text_width = bbox[2] - bbox[0]\n",
    "    text_height = bbox[3] - bbox[1]\n",
    "\n",
    "    # Центрируем текст\n",
    "    position = ((size[0] - text_width) // 2, (size[1] - text_height) // 2)\n",
    "\n",
    "    draw.text(position, text, fill=255, font=font)  # Белый текст\n",
    "    img.save(save_path)\n",
    "    img.show()\n",
    "\n",
    "# Пример: нарисовать цифру 3\n",
    "draw_digit(3)\n"
   ]
  },
  {
   "cell_type": "code",
   "execution_count": 4,
   "id": "527fa432-d3b3-43e5-9f28-0b40a74ba251",
   "metadata": {},
   "outputs": [],
   "source": [
    "draw_digit(0)\n",
    "draw_digit(1)\n",
    "draw_digit(2)\n",
    "draw_digit(3)\n",
    "draw_digit(4)\n",
    "draw_digit(5)\n",
    "draw_digit(6)\n",
    "draw_digit(7)\n",
    "draw_digit(8)\n",
    "draw_digit(9)"
   ]
  },
  {
   "cell_type": "code",
   "execution_count": 14,
   "id": "54fb359a-c0c5-4fdc-bb67-f1a5db8cbaeb",
   "metadata": {},
   "outputs": [],
   "source": [
    "draw_digit(0)"
   ]
  },
  {
   "cell_type": "code",
   "execution_count": 16,
   "id": "16da1bbe-48f7-4f46-ac2e-d3ce3a4da5f3",
   "metadata": {},
   "outputs": [
    {
     "name": "stdout",
     "output_type": "stream",
     "text": [
      "Epoch 1/10\n",
      "\u001b[1m13/13\u001b[0m \u001b[32m━━━━━━━━━━━━━━━━━━━━\u001b[0m\u001b[37m\u001b[0m \u001b[1m1s\u001b[0m 21ms/step - accuracy: 0.2604 - loss: 2.2283 - val_accuracy: 0.5000 - val_loss: 1.9217\n",
      "Epoch 2/10\n",
      "\u001b[1m13/13\u001b[0m \u001b[32m━━━━━━━━━━━━━━━━━━━━\u001b[0m\u001b[37m\u001b[0m \u001b[1m0s\u001b[0m 8ms/step - accuracy: 0.5905 - loss: 1.7483 - val_accuracy: 0.6200 - val_loss: 1.4256\n",
      "Epoch 3/10\n",
      "\u001b[1m13/13\u001b[0m \u001b[32m━━━━━━━━━━━━━━━━━━━━\u001b[0m\u001b[37m\u001b[0m \u001b[1m0s\u001b[0m 9ms/step - accuracy: 0.7053 - loss: 1.2146 - val_accuracy: 0.7800 - val_loss: 0.9329\n",
      "Epoch 4/10\n",
      "\u001b[1m13/13\u001b[0m \u001b[32m━━━━━━━━━━━━━━━━━━━━\u001b[0m\u001b[37m\u001b[0m \u001b[1m0s\u001b[0m 8ms/step - accuracy: 0.7680 - loss: 0.8856 - val_accuracy: 0.8900 - val_loss: 0.6218\n",
      "Epoch 5/10\n",
      "\u001b[1m13/13\u001b[0m \u001b[32m━━━━━━━━━━━━━━━━━━━━\u001b[0m\u001b[37m\u001b[0m \u001b[1m0s\u001b[0m 8ms/step - accuracy: 0.8970 - loss: 0.5627 - val_accuracy: 0.9400 - val_loss: 0.3872\n",
      "Epoch 6/10\n",
      "\u001b[1m13/13\u001b[0m \u001b[32m━━━━━━━━━━━━━━━━━━━━\u001b[0m\u001b[37m\u001b[0m \u001b[1m0s\u001b[0m 8ms/step - accuracy: 0.9597 - loss: 0.3451 - val_accuracy: 0.9600 - val_loss: 0.2624\n",
      "Epoch 7/10\n",
      "\u001b[1m13/13\u001b[0m \u001b[32m━━━━━━━━━━━━━━━━━━━━\u001b[0m\u001b[37m\u001b[0m \u001b[1m0s\u001b[0m 8ms/step - accuracy: 0.9649 - loss: 0.2351 - val_accuracy: 0.9800 - val_loss: 0.1640\n",
      "Epoch 8/10\n",
      "\u001b[1m13/13\u001b[0m \u001b[32m━━━━━━━━━━━━━━━━━━━━\u001b[0m\u001b[37m\u001b[0m \u001b[1m0s\u001b[0m 8ms/step - accuracy: 0.9880 - loss: 0.1465 - val_accuracy: 0.9700 - val_loss: 0.1190\n",
      "Epoch 9/10\n",
      "\u001b[1m13/13\u001b[0m \u001b[32m━━━━━━━━━━━━━━━━━━━━\u001b[0m\u001b[37m\u001b[0m \u001b[1m0s\u001b[0m 7ms/step - accuracy: 0.9834 - loss: 0.1003 - val_accuracy: 0.9900 - val_loss: 0.0629\n",
      "Epoch 10/10\n",
      "\u001b[1m13/13\u001b[0m \u001b[32m━━━━━━━━━━━━━━━━━━━━\u001b[0m\u001b[37m\u001b[0m \u001b[1m0s\u001b[0m 7ms/step - accuracy: 0.9982 - loss: 0.0655 - val_accuracy: 0.9900 - val_loss: 0.0484\n"
     ]
    }
   ],
   "source": [
    "import os\n",
    "import numpy as np\n",
    "from PIL import Image, ImageOps\n",
    "import tensorflow as tf\n",
    "from tensorflow.keras import layers, models\n",
    "from sklearn.model_selection import train_test_split\n",
    "\n",
    "# 1. Загрузка изображений\n",
    "def load_images_from_folder(folder):\n",
    "    images = []\n",
    "    labels = []\n",
    "    for filename in os.listdir(folder):\n",
    "        if filename.endswith(\".png\"):\n",
    "            label = int(os.path.splitext(filename)[0])\n",
    "            path = os.path.join(folder, filename)\n",
    "            img = Image.open(path).convert(\"L\")\n",
    "            img = img.resize((25, 25))\n",
    "            img = np.array(img) / 255.0  # нормализация\n",
    "            images.append(img)\n",
    "            labels.append(label)\n",
    "    return np.array(images), np.array(labels)\n",
    "\n",
    "# Путь к папке с 0.png ... 9.png\n",
    "folder_path = \"digits\"\n",
    "X, y = load_images_from_folder(folder_path)\n",
    "\n",
    "# 2. Расширение датасета: повороты, шум\n",
    "def augment_data(X, y, augment_factor=50):\n",
    "    X_aug = []\n",
    "    y_aug = []\n",
    "    for img, label in zip(X, y):\n",
    "        for _ in range(augment_factor):\n",
    "            img_pil = Image.fromarray((img * 255).astype(np.uint8))\n",
    "            angle = np.random.uniform(-20, 20)\n",
    "            img_rot = img_pil.rotate(angle)\n",
    "            img_rot = ImageOps.invert(img_rot) if np.random.rand() < 0.3 else img_rot\n",
    "            img_rot = np.array(img_rot) / 255.0\n",
    "            X_aug.append(img_rot)\n",
    "            y_aug.append(label)\n",
    "    return np.array(X_aug), np.array(y_aug)\n",
    "\n",
    "X_aug, y_aug = augment_data(X, y, augment_factor=50)\n",
    "X_aug = X_aug.reshape((-1, 25, 25, 1))\n",
    "\n",
    "# 3. Делим данные\n",
    "X_train, X_test, y_train, y_test = train_test_split(X_aug, y_aug, test_size=0.2, random_state=42)\n",
    "\n",
    "# 4. Создание модели\n",
    "model = models.Sequential([\n",
    "    layers.Input(shape=(25, 25, 1)),\n",
    "    layers.Conv2D(16, (3,3), activation='relu'),\n",
    "    layers.MaxPooling2D((2,2)),\n",
    "    layers.Conv2D(32, (3,3), activation='relu'),\n",
    "    layers.Flatten(),\n",
    "    layers.Dense(64, activation='relu'),\n",
    "    layers.Dense(10, activation='softmax')  # 10 классов (0-9)\n",
    "])\n",
    "\n",
    "model.compile(optimizer='adam',\n",
    "              loss='sparse_categorical_crossentropy',\n",
    "              metrics=['accuracy'])\n",
    "\n",
    "# 5. Обучение\n",
    "model.fit(X_train, y_train, epochs=10, validation_data=(X_test, y_test))\n",
    "\n",
    "# 6. Сохраняем модель\n",
    "model.save(\"digit_model.keras\")\n"
   ]
  },
  {
   "cell_type": "code",
   "execution_count": 17,
   "id": "a76724cb-ecd9-449a-849c-8bb2174c3bc4",
   "metadata": {},
   "outputs": [
    {
     "name": "stdout",
     "output_type": "stream",
     "text": [
      "\u001b[1m1/1\u001b[0m \u001b[32m━━━━━━━━━━━━━━━━━━━━\u001b[0m\u001b[37m\u001b[0m \u001b[1m0s\u001b[0m 89ms/step\n",
      "7\n"
     ]
    }
   ],
   "source": [
    "def predict_digit(image_path):\n",
    "    img = Image.open(image_path).convert(\"L\").resize((25,25))\n",
    "    img = np.array(img) / 255.0\n",
    "    img = img.reshape(1, 25, 25, 1)\n",
    "    prediction = model.predict(img)\n",
    "    return np.argmax(prediction)\n",
    "\n",
    "# Пример:\n",
    "print(predict_digit(\"digits/7.png\"))\n"
   ]
  },
  {
   "cell_type": "code",
   "execution_count": 18,
   "id": "9e21a551-ebf6-4ded-86ea-bfedd9bc4a41",
   "metadata": {},
   "outputs": [
    {
     "name": "stdout",
     "output_type": "stream",
     "text": [
      "Точность на 1000 случайных примерах: 0.992 (992/1000)\n"
     ]
    }
   ],
   "source": [
    "import random\n",
    "import numpy as np\n",
    "\n",
    "correct = 0\n",
    "total = 1000\n",
    "\n",
    "for _ in range(total):\n",
    "    # Случайный индекс из тестового набора\n",
    "    idx = random.randint(0, len(X_test) - 1)\n",
    "    img = X_test[idx]\n",
    "    label = y_test[idx]\n",
    "\n",
    "    # Предсказание\n",
    "    prediction = model.predict(img.reshape(1, 25, 25, 1), verbose=0)\n",
    "    predicted_label = np.argmax(prediction)\n",
    "\n",
    "    if predicted_label == label:\n",
    "        correct += 1\n",
    "\n",
    "accuracy = correct / total\n",
    "print(f\"Точность на 1000 случайных примерах: {accuracy:.3f} ({correct}/{total})\")\n"
   ]
  },
  {
   "cell_type": "code",
   "execution_count": null,
   "id": "644f4c0e-5dde-411e-9005-ea5543912709",
   "metadata": {},
   "outputs": [],
   "source": []
  }
 ],
 "metadata": {
  "kernelspec": {
   "display_name": "Python 3 (ipykernel)",
   "language": "python",
   "name": "python3"
  },
  "language_info": {
   "codemirror_mode": {
    "name": "ipython",
    "version": 3
   },
   "file_extension": ".py",
   "mimetype": "text/x-python",
   "name": "python",
   "nbconvert_exporter": "python",
   "pygments_lexer": "ipython3",
   "version": "3.12.7"
  }
 },
 "nbformat": 4,
 "nbformat_minor": 5
}
